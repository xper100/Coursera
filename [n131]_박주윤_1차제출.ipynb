{
  "nbformat": 4,
  "nbformat_minor": 0,
  "metadata": {
    "colab": {
      "name": "[n131]-박주윤 1차제출",
      "provenance": [],
      "collapsed_sections": [],
      "include_colab_link": true
    },
    "kernelspec": {
      "name": "python3",
      "display_name": "Python 3"
    }
  },
  "cells": [
    {
      "cell_type": "markdown",
      "metadata": {
        "id": "view-in-github",
        "colab_type": "text"
      },
      "source": [
        "<a href=\"https://colab.research.google.com/github/xper100/Coursera/blob/main/%5Bn131%5D_%EB%B0%95%EC%A3%BC%EC%9C%A4_1%EC%B0%A8%EC%A0%9C%EC%B6%9C.ipynb\" target=\"_parent\"><img src=\"https://colab.research.google.com/assets/colab-badge.svg\" alt=\"Open In Colab\"/></a>"
      ]
    },
    {
      "cell_type": "markdown",
      "metadata": {
        "id": "Y7hxe5O-9ukJ"
      },
      "source": [
        "<img src='https://i.imgur.com/RDAD11M.png' width = '200' align = 'right'>\n",
        "\n",
        "## *DATA SCIENCE / SECTION 1 / SPRINT 3 / NOTE 1*\n",
        "\n",
        "# 📝 Assignment"
      ]
    },
    {
      "cell_type": "markdown",
      "metadata": {
        "id": "yXA3GwWhY9KL"
      },
      "source": [
        "# 1. Portfolio\n",
        "\n",
        "`Dot product` & `Matrix Multiplication` 을 이용하여 다음 포트폴리오의 사람별 총합을 계산하세요.\n",
        "- 결과는 `res`에 list형태로 저장합니다.\n",
        "\n",
        "|People|Name|Price|Amount|\n",
        "|:-:|:-:|:-:|:-:|\n",
        "|X|A|100|35|\n",
        "|X|B|500|10|\n",
        "|X|C|250|25|\n",
        "|X|D|50|40|\n",
        "|Y|A|100|-|\n",
        "|Y|B|500|50|\n",
        "|Y|C|250|50|\n",
        "|Y|D|50|-|\n",
        "|Z|A|100|-|\n",
        "|Z|B|500|-|\n",
        "|Z|C|250|100|\n",
        "|Z|D|50|-|\n",
        "\n"
      ]
    },
    {
      "cell_type": "code",
      "metadata": {
        "id": "ErSR5soVblfv",
        "colab": {
          "base_uri": "https://localhost:8080/"
        },
        "outputId": "13738897-7a38-4e67-e54a-61df3edbe329"
      },
      "source": [
        "import pandas as pd\r\n",
        "import numpy as np\r\n",
        "\r\n",
        "price = np.array([100, 500, 250, 50])\r\n",
        "\r\n",
        "amount = np.array([\r\n",
        "                   [35,10,25,40],\r\n",
        "                   [0,50,50,0],\r\n",
        "                   [0,0,100,0]\r\n",
        "                   ])\r\n",
        "res = np.dot(price, amount.T)\r\n",
        "res"
      ],
      "execution_count": null,
      "outputs": [
        {
          "output_type": "execute_result",
          "data": {
            "text/plain": [
              "array([16750, 37500, 25000])"
            ]
          },
          "metadata": {
            "tags": []
          },
          "execution_count": 19
        }
      ]
    },
    {
      "cell_type": "markdown",
      "metadata": {
        "id": "dMgAVgIuGe_B"
      },
      "source": [
        "# 2. Norms\n",
        "\n",
        "주어진 값 $x_0, x_1, ... x_n$ 를 element로 갖는 벡터 $v$에 대하여 \n",
        "\n",
        "$L_1$ Norm 의 정의는 다음과 같습니다. \n",
        "\n",
        "$|v| = |x_0| + |x_1| + ... + |x_n|$\n",
        "\n",
        "$L_2$ Norm 의 정의는 다음과 같습니다.\n",
        "\n",
        "$||v|| = \\sqrt {{x_0}^2 + {x_1}^2 + ... + {x_n}^2}$\n",
        "\n",
        "이를 참조하여 주어진 벡터에 대해서 $L_2$ Norm 의 값과 $L_1$ Norm 의 값의 차이(절대값)를 계산하는 함수를 만드세요.\n",
        "\n"
      ]
    },
    {
      "cell_type": "markdown",
      "metadata": {
        "id": "NMi698FgWOOE"
      },
      "source": [
        "* $L_2$ Norm and $L_1$ Norm Calulation without Numpy library"
      ]
    },
    {
      "cell_type": "code",
      "metadata": {
        "colab": {
          "base_uri": "https://localhost:8080/"
        },
        "id": "bCTrA6XwVl42",
        "outputId": "982adaae-b2d0-4d04-a655-57de1e9550ad"
      },
      "source": [
        "def NormDif(v): # v = np.array()\r\n",
        "  L1_norm = abs(v).sum()\r\n",
        "  L2_norm = ( (v**2).sum() )**0.5\r\n",
        "  return abs(L2_norm -  L1_norm)\r\n",
        "NormDif(np.array([1, -2, 2]))"
      ],
      "execution_count": null,
      "outputs": [
        {
          "output_type": "execute_result",
          "data": {
            "text/plain": [
              "2.0"
            ]
          },
          "metadata": {
            "tags": []
          },
          "execution_count": 32
        }
      ]
    },
    {
      "cell_type": "markdown",
      "metadata": {
        "id": "GxRxaA4PWaWy"
      },
      "source": [
        "* $L_2$ Norm and $L_1$ Norm Calulation using Numpy library"
      ]
    },
    {
      "cell_type": "code",
      "metadata": {
        "id": "XrYfAExIGemC",
        "colab": {
          "base_uri": "https://localhost:8080/"
        },
        "outputId": "deede664-dfd3-4707-df98-a25b6f11855d"
      },
      "source": [
        "def NormDif(v): # v = np.array()\n",
        "  L1_norm = np.linalg.norm(v, ord=1)\n",
        "  L2_norm = np.linalg.norm(v, ord=2)\n",
        "  return abs(L2_norm -  L1_norm)\n",
        "NormDif(np.array([1, -2, 2]))"
      ],
      "execution_count": null,
      "outputs": [
        {
          "output_type": "execute_result",
          "data": {
            "text/plain": [
              "2.0"
            ]
          },
          "metadata": {
            "tags": []
          },
          "execution_count": 33
        }
      ]
    },
    {
      "cell_type": "markdown",
      "metadata": {
        "id": "VBJHWdyalU4G"
      },
      "source": [
        "## 3. Errors\n",
        "\n",
        "\n",
        "\n",
        "- 2개의 벡터와, error의 타입을 입력받아 그 결과값을 계산하는 함수를 작성하세요.\n",
        "\n",
        "- 여기서 error의 타입은 `MSE`, `MAE` 2가지 입니다.\n",
        "\n"
      ]
    },
    {
      "cell_type": "markdown",
      "metadata": {
        "id": "F1xvPbGOW4Dv"
      },
      "source": [
        "* **Mean Absolute Error(MAE)**\r\n",
        "$$MAE = \\frac{1}{n}\\sum_{i=1}^{n}|y_{i} - \\hat{y_{i}}|$$\r\n",
        "\r\n",
        "<br>\r\n",
        "\r\n",
        "* **Mean Squared Error(MSE)**\r\n",
        "$$MSE =  \\frac{1}{n}\\sum_{i=1}^{n} (y_{i} - \\hat{y_{i}})^{2}$$"
      ]
    },
    {
      "cell_type": "code",
      "metadata": {
        "id": "LQy8_pEUHHDC",
        "colab": {
          "base_uri": "https://localhost:8080/"
        },
        "outputId": "35b28db2-2e91-488e-fc04-059e7dc5916d"
      },
      "source": [
        "def error(x, y, type) :\n",
        "  if type == 'MAE':\n",
        "    ans = np.mean(abs(y-x))\n",
        "  elif type == 'MSE':\n",
        "    ans = np.mean((y-x)**2)\n",
        "  else:\n",
        "    ans = \"Please choose either MSE or MAE for type parameter!\"\n",
        "  return ans\n",
        "error(np.array([1, 2, 4]), np.array([3, 4, 3]), 'MAE')"
      ],
      "execution_count": null,
      "outputs": [
        {
          "output_type": "execute_result",
          "data": {
            "text/plain": [
              "1.6666666666666667"
            ]
          },
          "metadata": {
            "tags": []
          },
          "execution_count": 63
        }
      ]
    },
    {
      "cell_type": "markdown",
      "metadata": {
        "id": "l2Teph_aS16e"
      },
      "source": [
        "# 4. Inverse\n",
        "\n",
        "- 주어진 matrix에 대해서 inverse matrix를 계산하여 반환하는 함수를 작성하세요. \n",
        "- 이 때 inverse 계산이 불가능 한 경우 `-1` 을 반환합니다."
      ]
    },
    {
      "cell_type": "markdown",
      "metadata": {
        "id": "d_i5OyG4g_rD"
      },
      "source": [
        "* **Inverse 2X2 Matrix by hand**"
      ]
    },
    {
      "cell_type": "code",
      "metadata": {
        "colab": {
          "base_uri": "https://localhost:8080/"
        },
        "id": "thLwjOSsf0UY",
        "outputId": "efc2a501-c9c5-4297-87bc-61fd6cbd8687"
      },
      "source": [
        "def myInverse(m) : # m = np.array()\r\n",
        " a = m[0,0]\r\n",
        " b = m[0,1]\r\n",
        " c = m[1,0]\r\n",
        " d = m[1,1]\r\n",
        " determinant = a*d - b*c\r\n",
        " if determinant == 0:\r\n",
        "   return -1\r\n",
        " else:\r\n",
        "  new_mat = np.array([\r\n",
        "                      [d,-b],\r\n",
        "                      [-c, a]\r\n",
        "                     ])\r\n",
        "  inv_mat = (1/determinant)*new_mat\r\n",
        "  return inv_mat\r\n"
      ],
      "execution_count": null,
      "outputs": [
        {
          "output_type": "execute_result",
          "data": {
            "text/plain": [
              "True"
            ]
          },
          "metadata": {
            "tags": []
          },
          "execution_count": 78
        }
      ]
    },
    {
      "cell_type": "markdown",
      "metadata": {
        "id": "X-_X1oYshElf"
      },
      "source": [
        "* **Inverse 2X2 Matrix by inv library**"
      ]
    },
    {
      "cell_type": "code",
      "metadata": {
        "id": "1hseshZkS1eX",
        "colab": {
          "base_uri": "https://localhost:8080/"
        },
        "outputId": "e0440e69-1b50-45c8-dceb-a706fb52b4b4"
      },
      "source": [
        "from numpy.linalg import inv\n",
        "def myInverse(m) : # m = np.array()\n",
        " return inv(m)\n",
        "np.allclose(myInverse(np.array([[1,2],[3,4]])), np.array([[-2, 1], [1.5, -0.5]]))"
      ],
      "execution_count": null,
      "outputs": [
        {
          "output_type": "execute_result",
          "data": {
            "text/plain": [
              "True"
            ]
          },
          "metadata": {
            "tags": []
          },
          "execution_count": 74
        }
      ]
    },
    {
      "cell_type": "markdown",
      "metadata": {
        "id": "j6znnEAIT_ru"
      },
      "source": [
        "## Grading\n",
        "\n",
        "이전 과제를 완료했다면, 아래의 코드를 실행하세요.\n",
        "\n"
      ]
    },
    {
      "cell_type": "code",
      "metadata": {
        "id": "gJUasCPIFJFZ"
      },
      "source": [
        "def grade(res, NormDif, error, myInverse):\n",
        "  score = 0\n",
        "  score += ((res == np.array([16750, 37500, 25000])).sum() == 3)\n",
        "\n",
        "  score += (NormDif(np.array([1, -2, 2])) == 2)\n",
        "\n",
        "  score += (error(np.array([1, 2, 4]), np.array([3, 4, 3]), 'MSE') == 9/3)\n",
        "  score += (error(np.array([1, 2, 4]), np.array([3, 4, 3]), 'MAE') == 5/3)\n",
        "  \n",
        "  score += np.allclose(myInverse(np.array([[1,2],[3,4]])), np.array([[-2, 1], [1.5, -0.5]]))\n",
        "  \n",
        "  return(score)"
      ],
      "execution_count": null,
      "outputs": []
    },
    {
      "cell_type": "code",
      "metadata": {
        "id": "cFYfu7bRUGOJ",
        "colab": {
          "base_uri": "https://localhost:8080/"
        },
        "outputId": "227f0c9e-a3da-42dd-f101-bafde19978f6"
      },
      "source": [
        "grade(res, NormDif, error, myInverse)"
      ],
      "execution_count": null,
      "outputs": [
        {
          "output_type": "execute_result",
          "data": {
            "text/plain": [
              "5"
            ]
          },
          "metadata": {
            "tags": []
          },
          "execution_count": 64
        }
      ]
    },
    {
      "cell_type": "markdown",
      "metadata": {
        "id": "V0iTO4McYjtk"
      },
      "source": [
        "# 🔥 도전과제 \n",
        "\n"
      ]
    },
    {
      "cell_type": "markdown",
      "metadata": {
        "id": "3p45qAIGFTBZ"
      },
      "source": [
        "다음 링크의 내용을 참조하여 **Cramer's rule**을 사용해 $x_1$, $x_2$, $x_3$의 값을 구하세요.\n",
        "\n",
        "<https://youtu.be/6StS7VjtuGI>\n",
        "\n",
        "\n",
        "$x_1$ + $2x_3$ = 6\n",
        "\n",
        "$-3x_1$ + $4x_2$ + $6x3$ = 30\n",
        "\n",
        "$-x_1$ $-2x_2$ + $3x_3$ = 8\n",
        "\n"
      ]
    },
    {
      "cell_type": "code",
      "metadata": {
        "colab": {
          "base_uri": "https://localhost:8080/"
        },
        "id": "K9yoxr6ZhMbe",
        "outputId": "faf86765-c582-456a-db18-1ee6b01cdfa3"
      },
      "source": [
        "LH = np.array([\r\n",
        "          [1, 0, 3],\r\n",
        "          [-3, 4, 6],\r\n",
        "          [-1, -2, 3]\r\n",
        "          ])\r\n",
        "\r\n",
        "RH = np.array([\r\n",
        "               [6],\r\n",
        "               [30],\r\n",
        "               [8]\r\n",
        "               ])\r\n",
        "\r\n",
        "def cramer_rule(LH, RH):\r\n",
        "\r\n",
        "  a1 = LH[0,0]\r\n",
        "  b1 = LH[0,1]\r\n",
        "  c1 = LH[0,2]\r\n",
        "  a2 = LH[1,0]\r\n",
        "  b2 = LH[1,1]\r\n",
        "  c2 = LH[1,2]\r\n",
        "  a3 = LH[2,0]\r\n",
        "  b3 = LH[2,1]\r\n",
        "  c3 = LH[2,2]\r\n",
        "  d1 = RH[0,0] \r\n",
        "  d2 = RH[1,0]\r\n",
        "  d3 = RH[2,0]\r\n",
        "\r\n",
        "  # Determinant\r\n",
        "  v = LH\r\n",
        "  D = np.linalg.det(v)\r\n",
        "\r\n",
        "  # Dx1\r\n",
        "  vx1 = np.array([\r\n",
        "                 [d1,b1,c1],\r\n",
        "                 [d2,b2,c2],\r\n",
        "                 [d3,b3,c3]\r\n",
        "                 ])\r\n",
        "  Dx1 = np.linalg.det(vx1)\r\n",
        "\r\n",
        "  # Dx2\r\n",
        "  vx2 = np.array([\r\n",
        "                 [a1,d1,c1],\r\n",
        "                 [a2,d2,c2],\r\n",
        "                 [a3,d3,c3]\r\n",
        "                 ])\r\n",
        "\r\n",
        "  Dx2 = np.linalg.det(vx2)\r\n",
        "\r\n",
        "  # Dx3\r\n",
        "  vx3 = np.array([\r\n",
        "                 [a1,b1,d1],\r\n",
        "                 [a2,b2,d2],\r\n",
        "                 [a3,b3,d3]\r\n",
        "                 ])\r\n",
        "  Dx3 = np.linalg.det(vx3)\r\n",
        "\r\n",
        "  x1 = Dx1/D\r\n",
        "  x2 = Dx2/D\r\n",
        "  x3 = Dx3/D\r\n",
        "  matrix = np.array([\r\n",
        "                  [x1],\r\n",
        "                  [x2],\r\n",
        "                  [x3]\r\n",
        "                  ])\r\n",
        "  return D, Dx1, Dx2, Dx3, matrix\r\n",
        "  \r\n",
        "D, Dx1, Dx2, Dx3, matrix = cramer_rule(LH, RH)\r\n",
        "print(\"Original Determinant: {0}\\nDx1: {1}\\nDx2: {2}\\nDx3: {3}\\nX1: {4},    X2: {5},    X3:{6}\".format(round(D,4), round(Dx1,4), round(Dx2,4), round(Dx3,4), round(matrix[0,0],4), round(matrix[1,0],4), round(matrix[2,0],4)))"
      ],
      "execution_count": 96,
      "outputs": [
        {
          "output_type": "stream",
          "text": [
            "Original Determinant: 54.0\n",
            "Dx1: -132.0\n",
            "Dx2: 78.0\n",
            "Dx3: 152.0\n",
            "X1: -2.4444,    X2: 1.4444,    X3:2.8148\n"
          ],
          "name": "stdout"
        }
      ]
    }
  ]
}