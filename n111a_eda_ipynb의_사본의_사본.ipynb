{
  "nbformat": 4,
  "nbformat_minor": 0,
  "metadata": {
    "colab": {
      "name": "n111a-eda.ipynb의 사본의 사본",
      "provenance": [],
      "collapsed_sections": [],
      "toc_visible": true,
      "include_colab_link": true
    },
    "kernelspec": {
      "name": "python3",
      "display_name": "Python 3"
    }
  },
  "cells": [
    {
      "cell_type": "markdown",
      "metadata": {
        "id": "view-in-github",
        "colab_type": "text"
      },
      "source": [
        "<a href=\"https://colab.research.google.com/github/xper100/Coursera/blob/main/n111a_eda_ipynb%EC%9D%98_%EC%82%AC%EB%B3%B8%EC%9D%98_%EC%82%AC%EB%B3%B8.ipynb\" target=\"_parent\"><img src=\"https://colab.research.google.com/assets/colab-badge.svg\" alt=\"Open In Colab\"/></a>"
      ]
    },
    {
      "cell_type": "markdown",
      "metadata": {
        "id": "MSnsTgZLKO72"
      },
      "source": [
        "<img src='https://i.imgur.com/RDAD11M.png' width = '200' align = 'right'>\n",
        "\n",
        "## *DATA SCIENCE / SECTION 1 / SPRINT 1 / NOTE 1*\n",
        "\n",
        "---\n",
        "\n",
        "# 📝 Assignment\n",
        "\n"
      ]
    },
    {
      "cell_type": "markdown",
      "metadata": {
        "id": "qoR8E-T2TYPd"
      },
      "source": [
        "## 1.데이터셋 불러오기 연습\n",
        "\n",
        "다음 url에서 엑셀 파일을 불러오세요. (pandas excel)\n",
        "\n",
        "<https://ds-lecture-data.s3.ap-northeast-2.amazonaws.com/stocks/Travel.xlsx>\n",
        "\n",
        "  - 데이터셋 변수의 이름은 `df1`, `df2`로 저장하세요.\n",
        "  - row가 아닌 column에 '매출액', '영업이익' 이 가도록 데이터를 transpose 하세요.\n",
        "  - 이후 아래 링크를 참조하여 첫번째 row를 column name으로 설정하세요.\n",
        "\n",
        "<https://stackoverflow.com/questions/31328861/python-pandas-replacing-header-with-top-row>\n",
        "\n",
        "- 파일은 2개의 시트로 구성되어 있으며 각각 이름은 `008770`, `035250` 입니다.\n",
        "\n"
      ]
    },
    {
      "cell_type": "code",
      "metadata": {
        "id": "8dJed-JkFXD_"
      },
      "source": [
        "#!sudo apt-get install -y fonts-nanum\r\n",
        "#!sudo fc-cache -fv\r\n",
        "#!rm ~/.cache/matplotlib -rf"
      ],
      "execution_count": 1,
      "outputs": []
    },
    {
      "cell_type": "code",
      "metadata": {
        "id": "wMxnu2SmTS8Z"
      },
      "source": [
        "import pandas as pd\r\n",
        "import matplotlib.pyplot as plt\r\n",
        "\r\n",
        "url_link = 'https://ds-lecture-data.s3.ap-northeast-2.amazonaws.com/stocks/Travel.xlsx'\r\n",
        "\r\n",
        "# Import excel file\r\n",
        "df1 = pd.read_excel(url_link, sheet_name = '008770 ') \r\n",
        "df2 = pd.read_excel(url_link, sheet_name = '035250')\r\n",
        "\r\n",
        "# Row names (Features)\r\n",
        "df1_columns = df1.iloc[:,0]\r\n",
        "df2_columns = df2.iloc[:,0]\r\n",
        "\r\n",
        "# Transpose data and rename columns\r\n",
        "df1 = df1.T.iloc[1:]\r\n",
        "df2 = df2.T.iloc[1:]\r\n",
        "\r\n",
        "df1.columns = df1_columns\r\n",
        "df2.columns = df2_columns\r\n",
        "\r\n"
      ],
      "execution_count": 2,
      "outputs": []
    },
    {
      "cell_type": "markdown",
      "metadata": {
        "id": "156P6ndeKojO"
      },
      "source": [
        "## 2. 데이터 확인\n",
        "\n",
        "- 데이터의 dimension을 확인하세요.\n",
        "- 데이터의 결측치가 어디에 있는지 확인 후 0으로 대체하세요.\n",
        "- 각 데이터 별로 **FCF**의 값을 barplot으로 시각화하세요.\n",
        "  - 0보다 큰값, 작은값의 수의 총합을 `num1`, `num2`에 저장하세요\n"
      ]
    },
    {
      "cell_type": "code",
      "metadata": {
        "id": "s_ld2YJujRSb",
        "colab": {
          "base_uri": "https://localhost:8080/"
        },
        "outputId": "1ef69576-7120-48cd-f34e-02224d3b28a7"
      },
      "source": [
        "# Dimension of data\n",
        "df1.shape\n",
        "df2.shape\n",
        "print(df1.shape, df2.shape)\n"
      ],
      "execution_count": 3,
      "outputs": [
        {
          "output_type": "stream",
          "text": [
            "(8, 32) (8, 32)\n"
          ],
          "name": "stdout"
        }
      ]
    },
    {
      "cell_type": "code",
      "metadata": {
        "id": "HF9WUoHDz9IK"
      },
      "source": [
        "# Find out all missing Values and replace them into 0\r\n",
        "df1.isnull().sum()\r\n",
        "df1[df1.isnull()] = 0\r\n",
        "\r\n",
        "df2.isnull().sum()\r\n",
        "df2[df2.isnull()] = 0"
      ],
      "execution_count": 4,
      "outputs": []
    },
    {
      "cell_type": "code",
      "metadata": {
        "id": "yEz5WDohz6GK",
        "colab": {
          "base_uri": "https://localhost:8080/",
          "height": 381
        },
        "outputId": "9b47dcd6-0524-4b6f-f4cb-2df5587c066e"
      },
      "source": [
        "plt.rc('font', family='NanumBarunGothic') \r\n",
        "\r\n",
        "# Barplot, FCF\r\n",
        "plt.bar(x = df1.index, height = df1['FCF'], label = 'df1')\r\n",
        "plt.bar(x = df2.index, height = df2['FCF'], label = 'df2')\r\n",
        "plt.xticks(rotation=45)\r\n",
        "\r\n",
        "plt.show()"
      ],
      "execution_count": 13,
      "outputs": [
        {
          "output_type": "stream",
          "text": [
            "/usr/local/lib/python3.7/dist-packages/matplotlib/backends/backend_agg.py:214: RuntimeWarning: Glyph 8722 missing from current font.\n",
            "  font.set_text(s, 0.0, flags=flags)\n",
            "/usr/local/lib/python3.7/dist-packages/matplotlib/backends/backend_agg.py:183: RuntimeWarning: Glyph 8722 missing from current font.\n",
            "  font.set_text(s, 0, flags=flags)\n"
          ],
          "name": "stderr"
        },
        {
          "output_type": "display_data",
          "data": {
            "image/png": "[encoded data removed]",
            "text/plain": [
              "<Figure size 432x288 with 1 Axes>"
            ]
          },
          "metadata": {
            "tags": [],
            "needs_background": "light"
          }
        }
      ]
    },
    {
      "cell_type": "code",
      "metadata": {
        "id": "UODPNe8Tz2OA",
        "colab": {
          "base_uri": "https://localhost:8080/"
        },
        "outputId": "3767fc7a-ec74-44f3-fb14-18cbcb392bb3"
      },
      "source": [
        "num1 = df1.FCF[df1['FCF'] > 0].value_counts().sum() + df2.FCF[df2['FCF'] > 0].value_counts().sum() \r\n",
        "num2 = df1.FCF[df1['FCF'] < 0].value_counts().sum() + df2.FCF[df2['FCF'] < 0].value_counts().sum()\r\n",
        "  \r\n",
        "print(num1, num2)"
      ],
      "execution_count": 6,
      "outputs": [
        {
          "output_type": "stream",
          "text": [
            "4 6\n"
          ],
          "name": "stdout"
        }
      ]
    },
    {
      "cell_type": "markdown",
      "metadata": {
        "id": "OGMOBwEBTqKS"
      },
      "source": [
        "## 3. File export\n",
        "\n",
        "- 읽었던 엑셀 파일의 내용을 2개의 csv로 각각 출력하세요. (python export csv)\n",
        "\n",
        "  - 이름은 각각 `df1.csv`, `df2.csv` 입니다.\n"
      ]
    },
    {
      "cell_type": "code",
      "metadata": {
        "id": "xe47NX7qk53H"
      },
      "source": [
        "df1.to_csv('df1.csv')\r\n",
        "df2.to_csv('df2.csv')"
      ],
      "execution_count": 7,
      "outputs": []
    },
    {
      "cell_type": "markdown",
      "metadata": {
        "id": "DCZ01w4Ps-jO"
      },
      "source": [
        "## 4. Error Handling\n",
        "\n",
        "- 다음의 에러를 고치세요. 결과값은 6912가 나와야합니다.\n"
      ]
    },
    {
      "cell_type": "code",
      "metadata": {
        "colab": {
          "base_uri": "https://localhost:8080/"
        },
        "id": "NJdISe69ZT7E",
        "outputId": "803927dc-e0e5-468a-f476-1542e3243cad"
      },
      "source": [
        "a = int(\"1234\")\n",
        "b = 5678\n",
        "\n",
        "a+b\n"
      ],
      "execution_count": 8,
      "outputs": [
        {
          "output_type": "execute_result",
          "data": {
            "text/plain": [
              "6912"
            ]
          },
          "metadata": {
            "tags": []
          },
          "execution_count": 8
        }
      ]
    },
    {
      "cell_type": "markdown",
      "metadata": {
        "id": "en0Q_b5L4fxA"
      },
      "source": [
        "## Grading\n",
        "\n",
        "이전 과제를 완료했다면, 아래의 코드를 실행하세요. "
      ]
    },
    {
      "cell_type": "code",
      "metadata": {
        "id": "1k3zn-YV4fdg"
      },
      "source": [
        "import os\n",
        "\n",
        "def grade(df1, df2, num1, num2):\n",
        "  score = 0\n",
        "  \n",
        "  score += (df1['매출액'][0] == 14753)\n",
        "  score += (df2['매출액'][1] == 3728)\n",
        "\n",
        "  score += (df1.shape == (8, 32))\n",
        "  score += (df2.isnull().sum().sum() == 0)\n",
        "  score += (num1 == 4 and num2 == 6)\n",
        "\n",
        "  score += (os.listdir() == ['.config', 'df2.csv', 'df1.csv', 'sample_data'])\n",
        "\n",
        "  score += (a+b == 6912)\n",
        "\n",
        "  return(score)"
      ],
      "execution_count": 9,
      "outputs": []
    },
    {
      "cell_type": "code",
      "metadata": {
        "id": "-fv16AGr4FnN",
        "colab": {
          "base_uri": "https://localhost:8080/"
        },
        "outputId": "015b1ff4-6e7c-4f5d-b874-d206bd7475ca"
      },
      "source": [
        "os.listdir()"
      ],
      "execution_count": 10,
      "outputs": [
        {
          "output_type": "execute_result",
          "data": {
            "text/plain": [
              "['.config', 'df2.csv', 'df1.csv', 'sample_data']"
            ]
          },
          "metadata": {
            "tags": []
          },
          "execution_count": 10
        }
      ]
    },
    {
      "cell_type": "code",
      "metadata": {
        "id": "nj_RslFn4lCM",
        "colab": {
          "base_uri": "https://localhost:8080/"
        },
        "outputId": "f7c9a7f3-4c8d-44e6-fadc-0007756669a3"
      },
      "source": [
        "grade(df1, df2, num1, num2)"
      ],
      "execution_count": 11,
      "outputs": [
        {
          "output_type": "execute_result",
          "data": {
            "text/plain": [
              "7"
            ]
          },
          "metadata": {
            "tags": []
          },
          "execution_count": 11
        }
      ]
    },
    {
      "cell_type": "markdown",
      "metadata": {
        "id": "axPHh5t5s124"
      },
      "source": [
        "## 🔥 도전과제 \n",
        "\n",
        "- 다음 데이터를 사용하여 아래와 동일한 그래프를 그리세요.\n",
        "\n",
        "<https://ds-lecture-data.s3.ap-northeast-2.amazonaws.com/stocks/TSLA.csv>\n",
        "\n",
        "<img src='https://i.imgur.com/UsS5JcZ.png'>\n",
        "\n"
      ]
    },
    {
      "cell_type": "code",
      "metadata": {
        "id": "eNGiylrhwm2D",
        "colab": {
          "base_uri": "https://localhost:8080/",
          "height": 204
        },
        "outputId": "2a278766-2ed4-4261-8740-d05a632939d3"
      },
      "source": [
        "url_challenge = \"https://ds-lecture-data.s3.ap-northeast-2.amazonaws.com/stocks/TSLA.csv\"\r\n",
        "\r\n",
        "df_ch = pd.read_csv(url_challenge)\r\n",
        "df_ch.head()"
      ],
      "execution_count": 12,
      "outputs": [
        {
          "output_type": "execute_result",
          "data": {
            "text/html": [
              "<div>\n",
              "<style scoped>\n",
              "    .dataframe tbody tr th:only-of-type {\n",
              "        vertical-align: middle;\n",
              "    }\n",
              "\n",
              "    .dataframe tbody tr th {\n",
              "        vertical-align: top;\n",
              "    }\n",
              "\n",
              "    .dataframe thead th {\n",
              "        text-align: right;\n",
              "    }\n",
              "</style>\n",
              "<table border=\"1\" class=\"dataframe\">\n",
              "  <thead>\n",
              "    <tr style=\"text-align: right;\">\n",
              "      <th></th>\n",
              "      <th>Date</th>\n",
              "      <th>Open</th>\n",
              "      <th>High</th>\n",
              "      <th>Low</th>\n",
              "      <th>Close</th>\n",
              "      <th>Adj Close</th>\n",
              "      <th>Volume</th>\n",
              "    </tr>\n",
              "  </thead>\n",
              "  <tbody>\n",
              "    <tr>\n",
              "      <th>0</th>\n",
              "      <td>2010-06-29</td>\n",
              "      <td>19.000000</td>\n",
              "      <td>25.00</td>\n",
              "      <td>17.540001</td>\n",
              "      <td>23.889999</td>\n",
              "      <td>23.889999</td>\n",
              "      <td>18766300</td>\n",
              "    </tr>\n",
              "    <tr>\n",
              "      <th>1</th>\n",
              "      <td>2010-06-30</td>\n",
              "      <td>25.790001</td>\n",
              "      <td>30.42</td>\n",
              "      <td>23.299999</td>\n",
              "      <td>23.830000</td>\n",
              "      <td>23.830000</td>\n",
              "      <td>17187100</td>\n",
              "    </tr>\n",
              "    <tr>\n",
              "      <th>2</th>\n",
              "      <td>2010-07-01</td>\n",
              "      <td>25.000000</td>\n",
              "      <td>25.92</td>\n",
              "      <td>20.270000</td>\n",
              "      <td>21.959999</td>\n",
              "      <td>21.959999</td>\n",
              "      <td>8218800</td>\n",
              "    </tr>\n",
              "    <tr>\n",
              "      <th>3</th>\n",
              "      <td>2010-07-02</td>\n",
              "      <td>23.000000</td>\n",
              "      <td>23.10</td>\n",
              "      <td>18.709999</td>\n",
              "      <td>19.200001</td>\n",
              "      <td>19.200001</td>\n",
              "      <td>5139800</td>\n",
              "    </tr>\n",
              "    <tr>\n",
              "      <th>4</th>\n",
              "      <td>2010-07-06</td>\n",
              "      <td>20.000000</td>\n",
              "      <td>20.00</td>\n",
              "      <td>15.830000</td>\n",
              "      <td>16.110001</td>\n",
              "      <td>16.110001</td>\n",
              "      <td>6866900</td>\n",
              "    </tr>\n",
              "  </tbody>\n",
              "</table>\n",
              "</div>"
            ],
            "text/plain": [
              "         Date       Open   High        Low      Close  Adj Close    Volume\n",
              "0  2010-06-29  19.000000  25.00  17.540001  23.889999  23.889999  18766300\n",
              "1  2010-06-30  25.790001  30.42  23.299999  23.830000  23.830000  17187100\n",
              "2  2010-07-01  25.000000  25.92  20.270000  21.959999  21.959999   8218800\n",
              "3  2010-07-02  23.000000  23.10  18.709999  19.200001  19.200001   5139800\n",
              "4  2010-07-06  20.000000  20.00  15.830000  16.110001  16.110001   6866900"
            ]
          },
          "metadata": {
            "tags": []
          },
          "execution_count": 12
        }
      ]
    },
    {
      "cell_type": "code",
      "metadata": {
        "colab": {
          "base_uri": "https://localhost:8080/"
        },
        "id": "3ONGYBSkKYcf",
        "outputId": "7f2ab2f1-3426-4239-8229-6d9e00b963f0"
      },
      "source": [
        "df_ch.shape"
      ],
      "execution_count": 19,
      "outputs": [
        {
          "output_type": "execute_result",
          "data": {
            "text/plain": [
              "(2416, 8)"
            ]
          },
          "metadata": {
            "tags": []
          },
          "execution_count": 19
        }
      ]
    },
    {
      "cell_type": "code",
      "metadata": {
        "id": "yzhWMyjU-QMW",
        "colab": {
          "base_uri": "https://localhost:8080/",
          "height": 204
        },
        "outputId": "18a81186-5d48-4d06-eb0a-b309a1f5b3db"
      },
      "source": [
        "df_ch['Date'] = pd.to_datetime(df_ch['Date'])\r\n",
        "if 'Year' not in df_ch.columns:\r\n",
        "  df_ch['Year'] = df_ch['Date'].dt.year\r\n",
        "df_ch.head()"
      ],
      "execution_count": 18,
      "outputs": [
        {
          "output_type": "execute_result",
          "data": {
            "text/html": [
              "<div>\n",
              "<style scoped>\n",
              "    .dataframe tbody tr th:only-of-type {\n",
              "        vertical-align: middle;\n",
              "    }\n",
              "\n",
              "    .dataframe tbody tr th {\n",
              "        vertical-align: top;\n",
              "    }\n",
              "\n",
              "    .dataframe thead th {\n",
              "        text-align: right;\n",
              "    }\n",
              "</style>\n",
              "<table border=\"1\" class=\"dataframe\">\n",
              "  <thead>\n",
              "    <tr style=\"text-align: right;\">\n",
              "      <th></th>\n",
              "      <th>Date</th>\n",
              "      <th>Open</th>\n",
              "      <th>High</th>\n",
              "      <th>Low</th>\n",
              "      <th>Close</th>\n",
              "      <th>Adj Close</th>\n",
              "      <th>Volume</th>\n",
              "      <th>Year</th>\n",
              "    </tr>\n",
              "  </thead>\n",
              "  <tbody>\n",
              "    <tr>\n",
              "      <th>0</th>\n",
              "      <td>2010-06-29</td>\n",
              "      <td>19.000000</td>\n",
              "      <td>25.00</td>\n",
              "      <td>17.540001</td>\n",
              "      <td>23.889999</td>\n",
              "      <td>23.889999</td>\n",
              "      <td>18766300</td>\n",
              "      <td>2010</td>\n",
              "    </tr>\n",
              "    <tr>\n",
              "      <th>1</th>\n",
              "      <td>2010-06-30</td>\n",
              "      <td>25.790001</td>\n",
              "      <td>30.42</td>\n",
              "      <td>23.299999</td>\n",
              "      <td>23.830000</td>\n",
              "      <td>23.830000</td>\n",
              "      <td>17187100</td>\n",
              "      <td>2010</td>\n",
              "    </tr>\n",
              "    <tr>\n",
              "      <th>2</th>\n",
              "      <td>2010-07-01</td>\n",
              "      <td>25.000000</td>\n",
              "      <td>25.92</td>\n",
              "      <td>20.270000</td>\n",
              "      <td>21.959999</td>\n",
              "      <td>21.959999</td>\n",
              "      <td>8218800</td>\n",
              "      <td>2010</td>\n",
              "    </tr>\n",
              "    <tr>\n",
              "      <th>3</th>\n",
              "      <td>2010-07-02</td>\n",
              "      <td>23.000000</td>\n",
              "      <td>23.10</td>\n",
              "      <td>18.709999</td>\n",
              "      <td>19.200001</td>\n",
              "      <td>19.200001</td>\n",
              "      <td>5139800</td>\n",
              "      <td>2010</td>\n",
              "    </tr>\n",
              "    <tr>\n",
              "      <th>4</th>\n",
              "      <td>2010-07-06</td>\n",
              "      <td>20.000000</td>\n",
              "      <td>20.00</td>\n",
              "      <td>15.830000</td>\n",
              "      <td>16.110001</td>\n",
              "      <td>16.110001</td>\n",
              "      <td>6866900</td>\n",
              "      <td>2010</td>\n",
              "    </tr>\n",
              "  </tbody>\n",
              "</table>\n",
              "</div>"
            ],
            "text/plain": [
              "        Date       Open   High        Low      Close  Adj Close    Volume  Year\n",
              "0 2010-06-29  19.000000  25.00  17.540001  23.889999  23.889999  18766300  2010\n",
              "1 2010-06-30  25.790001  30.42  23.299999  23.830000  23.830000  17187100  2010\n",
              "2 2010-07-01  25.000000  25.92  20.270000  21.959999  21.959999   8218800  2010\n",
              "3 2010-07-02  23.000000  23.10  18.709999  19.200001  19.200001   5139800  2010\n",
              "4 2010-07-06  20.000000  20.00  15.830000  16.110001  16.110001   6866900  2010"
            ]
          },
          "metadata": {
            "tags": []
          },
          "execution_count": 18
        }
      ]
    },
    {
      "cell_type": "code",
      "metadata": {
        "colab": {
          "base_uri": "https://localhost:8080/"
        },
        "id": "FL8w7zkkHMAt",
        "outputId": "fd4ad5e4-4e5e-4199-dc80-4ad2811567c7"
      },
      "source": [
        "color_list = []\r\n",
        "\r\n",
        "for i in df_ch['Year']:\r\n",
        "  if i not in color_list:\r\n",
        "    color_list.append(i)\r\n",
        "\r\n",
        "print(color_list)"
      ],
      "execution_count": 32,
      "outputs": [
        {
          "output_type": "stream",
          "text": [
            "[2010, 2011, 2012, 2013, 2014, 2015, 2016, 2017, 2018, 2019, 2020]\n"
          ],
          "name": "stdout"
        }
      ]
    },
    {
      "cell_type": "code",
      "metadata": {
        "colab": {
          "base_uri": "https://localhost:8080/",
          "height": 316
        },
        "id": "aQQwjvKXTmAE",
        "outputId": "8a7f6f70-647e-41cf-e5b5-b6c4a03cd643"
      },
      "source": [
        "df_group = pd.groupby('Year')\r\n"
      ],
      "execution_count": 33,
      "outputs": [
        {
          "output_type": "error",
          "ename": "AttributeError",
          "evalue": "ignored",
          "traceback": [
            "\u001b[0;31m---------------------------------------------------------------------------\u001b[0m",
            "\u001b[0;31mAttributeError\u001b[0m                            Traceback (most recent call last)",
            "\u001b[0;32m<ipython-input-33-82c1ea862219>\u001b[0m in \u001b[0;36m<module>\u001b[0;34m()\u001b[0m\n\u001b[0;32m----> 1\u001b[0;31m \u001b[0mdf\u001b[0m \u001b[0;34m=\u001b[0m \u001b[0mpd\u001b[0m\u001b[0;34m.\u001b[0m\u001b[0mgroupby\u001b[0m\u001b[0;34m(\u001b[0m\u001b[0;34m'Year'\u001b[0m\u001b[0;34m)\u001b[0m\u001b[0;34m\u001b[0m\u001b[0;34m\u001b[0m\u001b[0m\n\u001b[0m\u001b[1;32m      2\u001b[0m \u001b[0mdf\u001b[0m\u001b[0;34m\u001b[0m\u001b[0;34m\u001b[0m\u001b[0m\n",
            "\u001b[0;32m/usr/local/lib/python3.7/dist-packages/pandas/__init__.py\u001b[0m in \u001b[0;36m__getattr__\u001b[0;34m(name)\u001b[0m\n\u001b[1;32m    256\u001b[0m             \u001b[0;32mreturn\u001b[0m \u001b[0m_SparseArray\u001b[0m\u001b[0;34m\u001b[0m\u001b[0;34m\u001b[0m\u001b[0m\n\u001b[1;32m    257\u001b[0m \u001b[0;34m\u001b[0m\u001b[0m\n\u001b[0;32m--> 258\u001b[0;31m         \u001b[0;32mraise\u001b[0m \u001b[0mAttributeError\u001b[0m\u001b[0;34m(\u001b[0m\u001b[0;34mf\"module 'pandas' has no attribute '{name}'\"\u001b[0m\u001b[0;34m)\u001b[0m\u001b[0;34m\u001b[0m\u001b[0;34m\u001b[0m\u001b[0m\n\u001b[0m\u001b[1;32m    259\u001b[0m \u001b[0;34m\u001b[0m\u001b[0m\n\u001b[1;32m    260\u001b[0m \u001b[0;34m\u001b[0m\u001b[0m\n",
            "\u001b[0;31mAttributeError\u001b[0m: module 'pandas' has no attribute 'groupby'"
          ]
        }
      ]
    },
    {
      "cell_type": "code",
      "metadata": {
        "colab": {
          "base_uri": "https://localhost:8080/",
          "height": 496
        },
        "id": "Dx-oWa2pQO9c",
        "outputId": "4ceac70c-b268-4735-a360-10de3b86b7af"
      },
      "source": [
        "groups = df_ch.groupby(by = df_ch['Year'])\r\n",
        "\r\n",
        "fig, ax = plt.subplots()\r\n",
        "for group in groups:\r\n",
        "  plt.plot('Date'], y = group['Close'], label = color_list)\r\n",
        "plt.legend()\r\n",
        "plt.show()\r\n",
        "\r\n"
      ],
      "execution_count": 43,
      "outputs": [
        {
          "output_type": "error",
          "ename": "TypeError",
          "evalue": "ignored",
          "traceback": [
            "\u001b[0;31m---------------------------------------------------------------------------\u001b[0m",
            "\u001b[0;31mTypeError\u001b[0m                                 Traceback (most recent call last)",
            "\u001b[0;32m<ipython-input-43-328b0a3c0e77>\u001b[0m in \u001b[0;36m<module>\u001b[0;34m()\u001b[0m\n\u001b[1;32m      3\u001b[0m \u001b[0mfig\u001b[0m\u001b[0;34m,\u001b[0m \u001b[0max\u001b[0m \u001b[0;34m=\u001b[0m \u001b[0mplt\u001b[0m\u001b[0;34m.\u001b[0m\u001b[0msubplots\u001b[0m\u001b[0;34m(\u001b[0m\u001b[0;34m)\u001b[0m\u001b[0;34m\u001b[0m\u001b[0;34m\u001b[0m\u001b[0m\n\u001b[1;32m      4\u001b[0m \u001b[0;32mfor\u001b[0m \u001b[0mgroup\u001b[0m \u001b[0;32min\u001b[0m \u001b[0mgroups\u001b[0m\u001b[0;34m:\u001b[0m\u001b[0;34m\u001b[0m\u001b[0;34m\u001b[0m\u001b[0m\n\u001b[0;32m----> 5\u001b[0;31m   \u001b[0mplt\u001b[0m\u001b[0;34m.\u001b[0m\u001b[0mplot\u001b[0m\u001b[0;34m(\u001b[0m\u001b[0mx\u001b[0m \u001b[0;34m=\u001b[0m \u001b[0mgroup\u001b[0m\u001b[0;34m[\u001b[0m\u001b[0;34m'Date'\u001b[0m\u001b[0;34m]\u001b[0m\u001b[0;34m,\u001b[0m \u001b[0my\u001b[0m \u001b[0;34m=\u001b[0m \u001b[0mgroup\u001b[0m\u001b[0;34m[\u001b[0m\u001b[0;34m'Close'\u001b[0m\u001b[0;34m]\u001b[0m\u001b[0;34m,\u001b[0m \u001b[0mlabel\u001b[0m \u001b[0;34m=\u001b[0m \u001b[0mcolor_list\u001b[0m\u001b[0;34m)\u001b[0m\u001b[0;34m\u001b[0m\u001b[0;34m\u001b[0m\u001b[0m\n\u001b[0m\u001b[1;32m      6\u001b[0m \u001b[0mplt\u001b[0m\u001b[0;34m.\u001b[0m\u001b[0mlegend\u001b[0m\u001b[0;34m(\u001b[0m\u001b[0;34m)\u001b[0m\u001b[0;34m\u001b[0m\u001b[0;34m\u001b[0m\u001b[0m\n\u001b[1;32m      7\u001b[0m \u001b[0mplt\u001b[0m\u001b[0;34m.\u001b[0m\u001b[0mshow\u001b[0m\u001b[0;34m(\u001b[0m\u001b[0;34m)\u001b[0m\u001b[0;34m\u001b[0m\u001b[0;34m\u001b[0m\u001b[0m\n",
            "\u001b[0;31mTypeError\u001b[0m: tuple indices must be integers or slices, not str"
          ]
        },
        {
          "output_type": "display_data",
          "data": {
            "image/png": "[encoded data removed]",
            "text/plain": [
              "<Figure size 432x288 with 1 Axes>"
            ]
          },
          "metadata": {
            "tags": [],
            "needs_background": "light"
          }
        }
      ]
    },
    {
      "cell_type": "code",
      "metadata": {
        "colab": {
          "base_uri": "https://localhost:8080/",
          "height": 190
        },
        "id": "3_kNgPZoVoIJ",
        "outputId": "f5e4007d-bd0a-4bce-ae6c-2ae30f7e56a2"
      },
      "source": [
        "groups = df_ch.groupby(by = df_ch['Year'])\r\n"
      ],
      "execution_count": 53,
      "outputs": [
        {
          "output_type": "error",
          "ename": "TypeError",
          "evalue": "ignored",
          "traceback": [
            "\u001b[0;31m---------------------------------------------------------------------------\u001b[0m",
            "\u001b[0;31mTypeError\u001b[0m                                 Traceback (most recent call last)",
            "\u001b[0;32m<ipython-input-53-7d1f17f46f0a>\u001b[0m in \u001b[0;36m<module>\u001b[0;34m()\u001b[0m\n\u001b[1;32m      1\u001b[0m \u001b[0mgroups\u001b[0m \u001b[0;34m=\u001b[0m \u001b[0mdf_ch\u001b[0m\u001b[0;34m.\u001b[0m\u001b[0mgroupby\u001b[0m\u001b[0;34m(\u001b[0m\u001b[0mby\u001b[0m \u001b[0;34m=\u001b[0m \u001b[0mdf_ch\u001b[0m\u001b[0;34m[\u001b[0m\u001b[0;34m'Year'\u001b[0m\u001b[0;34m]\u001b[0m\u001b[0;34m)\u001b[0m\u001b[0;34m\u001b[0m\u001b[0;34m\u001b[0m\u001b[0m\n\u001b[0;32m----> 2\u001b[0;31m \u001b[0mgroups\u001b[0m\u001b[0;34m(\u001b[0m\u001b[0;34m'Year'\u001b[0m\u001b[0;34m)\u001b[0m\u001b[0;34m\u001b[0m\u001b[0;34m\u001b[0m\u001b[0m\n\u001b[0m",
            "\u001b[0;31mTypeError\u001b[0m: 'DataFrameGroupBy' object is not callable"
          ]
        }
      ]
    },
    {
      "cell_type": "code",
      "metadata": {
        "id": "iK1bcVnhWgfV"
      },
      "source": [
        ""
      ],
      "execution_count": null,
      "outputs": []
    },
    {
      "cell_type": "code",
      "metadata": {
        "colab": {
          "base_uri": "https://localhost:8080/",
          "height": 244
        },
        "id": "pBLot5rAU6NY",
        "outputId": "808aede5-53d1-444f-fa90-7e6bdec04138"
      },
      "source": [
        " \r\n",
        "# Data\r\n",
        "df=pd.DataFrame({'x_values': range(1,11), 'y1_values': np.random.randn(10), 'y2_values': np.random.randn(10)+range(1,11), 'y3_values': np.random.randn(10)+range(11,21) })\r\n",
        " \r\n",
        "# multiple line plots\r\n",
        "plt.plot( 'x_values', 'y1_values', data=df, marker='o', markerfacecolor='blue', markersize=12, color='skyblue', linewidth=4)\r\n",
        "plt.plot( 'x_values', 'y2_values', data=df, marker='', color='olive', linewidth=2)\r\n",
        "plt.plot( 'x_values', 'y3_values', data=df, marker='', color='olive', linewidth=2, linestyle='dashed', label=\"toto\")\r\n",
        "# show legend\r\n",
        "plt.legend()\r\n",
        "\r\n",
        "# show graph\r\n",
        "plt.show()"
      ],
      "execution_count": 42,
      "outputs": [
        {
          "output_type": "error",
          "ename": "NameError",
          "evalue": "ignored",
          "traceback": [
            "\u001b[0;31m---------------------------------------------------------------------------\u001b[0m",
            "\u001b[0;31mNameError\u001b[0m                                 Traceback (most recent call last)",
            "\u001b[0;32m<ipython-input-42-dc304ce172fc>\u001b[0m in \u001b[0;36m<module>\u001b[0;34m()\u001b[0m\n\u001b[1;32m      1\u001b[0m \u001b[0;34m\u001b[0m\u001b[0m\n\u001b[1;32m      2\u001b[0m \u001b[0;34m\u001b[0m\u001b[0m\n\u001b[0;32m----> 3\u001b[0;31m \u001b[0mgroups\u001b[0m \u001b[0;34m=\u001b[0m \u001b[0mdf\u001b[0m\u001b[0;34m.\u001b[0m\u001b[0mgroupby\u001b[0m\u001b[0;34m(\u001b[0m\u001b[0;34m'label'\u001b[0m\u001b[0;34m)\u001b[0m\u001b[0;34m\u001b[0m\u001b[0;34m\u001b[0m\u001b[0m\n\u001b[0m\u001b[1;32m      4\u001b[0m \u001b[0;34m\u001b[0m\u001b[0m\n\u001b[1;32m      5\u001b[0m \u001b[0;31m# Plot\u001b[0m\u001b[0;34m\u001b[0m\u001b[0;34m\u001b[0m\u001b[0;34m\u001b[0m\u001b[0m\n",
            "\u001b[0;31mNameError\u001b[0m: name 'df' is not defined"
          ]
        }
      ]
    }
  ]
}