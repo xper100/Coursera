{
  "nbformat": 4,
  "nbformat_minor": 0,
  "metadata": {
    "colab": {
      "name": "박주윤 - 1차제출 [n113]",
      "provenance": [],
      "collapsed_sections": [],
      "include_colab_link": true
    },
    "kernelspec": {
      "display_name": "Python 3",
      "language": "python",
      "name": "python3"
    },
    "language_info": {
      "codemirror_mode": {
        "name": "ipython",
        "version": 3
      },
      "file_extension": ".py",
      "mimetype": "text/x-python",
      "name": "python",
      "nbconvert_exporter": "python",
      "pygments_lexer": "ipython3",
      "version": "3.8.5"
    }
  },
  "cells": [
    {
      "cell_type": "markdown",
      "metadata": {
        "id": "view-in-github",
        "colab_type": "text"
      },
      "source": [
        "<a href=\"https://colab.research.google.com/github/xper100/Coursera/blob/main/%EB%B0%95%EC%A3%BC%EC%9C%A4_1%EC%B0%A8%EC%A0%9C%EC%B6%9C_%5Bn113%5D.ipynb\" target=\"_parent\"><img src=\"https://colab.research.google.com/assets/colab-badge.svg\" alt=\"Open In Colab\"/></a>"
      ]
    },
    {
      "cell_type": "markdown",
      "metadata": {
        "id": "NMEswXWh9mqw"
      },
      "source": [
        "<img src='https://i.imgur.com/RDAD11M.png' width = '200' align = 'right'>\n",
        "\n",
        "## *DATA SCIENCE / SECTION 1 / SPRINT 1 / NOTE 4*\n",
        "\n",
        "# 📝 Assignment\n",
        "\n",
        "\n",
        "\n"
      ]
    },
    {
      "cell_type": "markdown",
      "metadata": {
        "id": "up83Hyc87uU_"
      },
      "source": [
        "## 1. 아래 링크와 이미지를 참조하여 차트를 그리세요 ( `seaborn` 사용 )\n",
        "\n",
        "<https://github.com/mwaskom/seaborn-data/blob/master/penguins.csv>\n",
        "\n",
        "- 차트는 총 4가지를 그리게 됩니다.\n",
        "\n"
      ]
    },
    {
      "cell_type": "code",
      "metadata": {
        "id": "7SY1ZHawyZvz"
      },
      "source": [
        "import pandas as pd\n",
        "\n",
        "df = pd.read_csv('https://github.com/mwaskom/seaborn-data/raw/master/penguins.csv')"
      ],
      "execution_count": 1,
      "outputs": []
    },
    {
      "cell_type": "markdown",
      "metadata": {
        "id": "lYHW0XdXM1EF"
      },
      "source": [
        "* **Deal with missing values**"
      ]
    },
    {
      "cell_type": "code",
      "metadata": {
        "colab": {
          "base_uri": "https://localhost:8080/",
          "height": 204
        },
        "id": "mAcFWgpMmaF7",
        "outputId": "6f743d66-be69-4c61-cb60-360ed9b35e69"
      },
      "source": [
        "df.head()"
      ],
      "execution_count": 2,
      "outputs": [
        {
          "output_type": "execute_result",
          "data": {
            "text/html": [
              "<div>\n",
              "<style scoped>\n",
              "    .dataframe tbody tr th:only-of-type {\n",
              "        vertical-align: middle;\n",
              "    }\n",
              "\n",
              "    .dataframe tbody tr th {\n",
              "        vertical-align: top;\n",
              "    }\n",
              "\n",
              "    .dataframe thead th {\n",
              "        text-align: right;\n",
              "    }\n",
              "</style>\n",
              "<table border=\"1\" class=\"dataframe\">\n",
              "  <thead>\n",
              "    <tr style=\"text-align: right;\">\n",
              "      <th></th>\n",
              "      <th>species</th>\n",
              "      <th>island</th>\n",
              "      <th>bill_length_mm</th>\n",
              "      <th>bill_depth_mm</th>\n",
              "      <th>flipper_length_mm</th>\n",
              "      <th>body_mass_g</th>\n",
              "      <th>sex</th>\n",
              "    </tr>\n",
              "  </thead>\n",
              "  <tbody>\n",
              "    <tr>\n",
              "      <th>0</th>\n",
              "      <td>Adelie</td>\n",
              "      <td>Torgersen</td>\n",
              "      <td>39.1</td>\n",
              "      <td>18.7</td>\n",
              "      <td>181.0</td>\n",
              "      <td>3750.0</td>\n",
              "      <td>MALE</td>\n",
              "    </tr>\n",
              "    <tr>\n",
              "      <th>1</th>\n",
              "      <td>Adelie</td>\n",
              "      <td>Torgersen</td>\n",
              "      <td>39.5</td>\n",
              "      <td>17.4</td>\n",
              "      <td>186.0</td>\n",
              "      <td>3800.0</td>\n",
              "      <td>FEMALE</td>\n",
              "    </tr>\n",
              "    <tr>\n",
              "      <th>2</th>\n",
              "      <td>Adelie</td>\n",
              "      <td>Torgersen</td>\n",
              "      <td>40.3</td>\n",
              "      <td>18.0</td>\n",
              "      <td>195.0</td>\n",
              "      <td>3250.0</td>\n",
              "      <td>FEMALE</td>\n",
              "    </tr>\n",
              "    <tr>\n",
              "      <th>3</th>\n",
              "      <td>Adelie</td>\n",
              "      <td>Torgersen</td>\n",
              "      <td>NaN</td>\n",
              "      <td>NaN</td>\n",
              "      <td>NaN</td>\n",
              "      <td>NaN</td>\n",
              "      <td>NaN</td>\n",
              "    </tr>\n",
              "    <tr>\n",
              "      <th>4</th>\n",
              "      <td>Adelie</td>\n",
              "      <td>Torgersen</td>\n",
              "      <td>36.7</td>\n",
              "      <td>19.3</td>\n",
              "      <td>193.0</td>\n",
              "      <td>3450.0</td>\n",
              "      <td>FEMALE</td>\n",
              "    </tr>\n",
              "  </tbody>\n",
              "</table>\n",
              "</div>"
            ],
            "text/plain": [
              "  species     island  bill_length_mm  ...  flipper_length_mm  body_mass_g     sex\n",
              "0  Adelie  Torgersen            39.1  ...              181.0       3750.0    MALE\n",
              "1  Adelie  Torgersen            39.5  ...              186.0       3800.0  FEMALE\n",
              "2  Adelie  Torgersen            40.3  ...              195.0       3250.0  FEMALE\n",
              "3  Adelie  Torgersen             NaN  ...                NaN          NaN     NaN\n",
              "4  Adelie  Torgersen            36.7  ...              193.0       3450.0  FEMALE\n",
              "\n",
              "[5 rows x 7 columns]"
            ]
          },
          "metadata": {
            "tags": []
          },
          "execution_count": 2
        }
      ]
    },
    {
      "cell_type": "code",
      "metadata": {
        "colab": {
          "base_uri": "https://localhost:8080/"
        },
        "id": "S0t5sYmUmcB2",
        "outputId": "652947fc-9e88-448d-eeee-3ddc921e0c51"
      },
      "source": [
        "df.info()"
      ],
      "execution_count": 3,
      "outputs": [
        {
          "output_type": "stream",
          "text": [
            "<class 'pandas.core.frame.DataFrame'>\n",
            "RangeIndex: 344 entries, 0 to 343\n",
            "Data columns (total 7 columns):\n",
            " #   Column             Non-Null Count  Dtype  \n",
            "---  ------             --------------  -----  \n",
            " 0   species            344 non-null    object \n",
            " 1   island             344 non-null    object \n",
            " 2   bill_length_mm     342 non-null    float64\n",
            " 3   bill_depth_mm      342 non-null    float64\n",
            " 4   flipper_length_mm  342 non-null    float64\n",
            " 5   body_mass_g        342 non-null    float64\n",
            " 6   sex                333 non-null    object \n",
            "dtypes: float64(4), object(3)\n",
            "memory usage: 18.9+ KB\n"
          ],
          "name": "stdout"
        }
      ]
    },
    {
      "cell_type": "code",
      "metadata": {
        "colab": {
          "base_uri": "https://localhost:8080/"
        },
        "id": "rEmHLrTCoDg9",
        "outputId": "432b446f-37a6-4cdd-eb33-494e640bef56"
      },
      "source": [
        "df.shape"
      ],
      "execution_count": 4,
      "outputs": [
        {
          "output_type": "execute_result",
          "data": {
            "text/plain": [
              "(344, 7)"
            ]
          },
          "metadata": {
            "tags": []
          },
          "execution_count": 4
        }
      ]
    },
    {
      "cell_type": "code",
      "metadata": {
        "colab": {
          "base_uri": "https://localhost:8080/"
        },
        "id": "GBgl6IhhmjWT",
        "outputId": "4e40d5f5-45bc-4a23-bd53-d535de97dc5d"
      },
      "source": [
        "df.isnull().sum()"
      ],
      "execution_count": 5,
      "outputs": [
        {
          "output_type": "execute_result",
          "data": {
            "text/plain": [
              "species               0\n",
              "island                0\n",
              "bill_length_mm        2\n",
              "bill_depth_mm         2\n",
              "flipper_length_mm     2\n",
              "body_mass_g           2\n",
              "sex                  11\n",
              "dtype: int64"
            ]
          },
          "metadata": {
            "tags": []
          },
          "execution_count": 5
        }
      ]
    },
    {
      "cell_type": "code",
      "metadata": {
        "colab": {
          "base_uri": "https://localhost:8080/",
          "height": 390
        },
        "id": "BZrLReJhnGdT",
        "outputId": "0f7e2d03-79a6-4d93-c845-278c3c1c380a"
      },
      "source": [
        "df[df.isnull().any(axis = 1)]"
      ],
      "execution_count": 6,
      "outputs": [
        {
          "output_type": "execute_result",
          "data": {
            "text/html": [
              "<div>\n",
              "<style scoped>\n",
              "    .dataframe tbody tr th:only-of-type {\n",
              "        vertical-align: middle;\n",
              "    }\n",
              "\n",
              "    .dataframe tbody tr th {\n",
              "        vertical-align: top;\n",
              "    }\n",
              "\n",
              "    .dataframe thead th {\n",
              "        text-align: right;\n",
              "    }\n",
              "</style>\n",
              "<table border=\"1\" class=\"dataframe\">\n",
              "  <thead>\n",
              "    <tr style=\"text-align: right;\">\n",
              "      <th></th>\n",
              "      <th>species</th>\n",
              "      <th>island</th>\n",
              "      <th>bill_length_mm</th>\n",
              "      <th>bill_depth_mm</th>\n",
              "      <th>flipper_length_mm</th>\n",
              "      <th>body_mass_g</th>\n",
              "      <th>sex</th>\n",
              "    </tr>\n",
              "  </thead>\n",
              "  <tbody>\n",
              "    <tr>\n",
              "      <th>3</th>\n",
              "      <td>Adelie</td>\n",
              "      <td>Torgersen</td>\n",
              "      <td>NaN</td>\n",
              "      <td>NaN</td>\n",
              "      <td>NaN</td>\n",
              "      <td>NaN</td>\n",
              "      <td>NaN</td>\n",
              "    </tr>\n",
              "    <tr>\n",
              "      <th>8</th>\n",
              "      <td>Adelie</td>\n",
              "      <td>Torgersen</td>\n",
              "      <td>34.1</td>\n",
              "      <td>18.1</td>\n",
              "      <td>193.0</td>\n",
              "      <td>3475.0</td>\n",
              "      <td>NaN</td>\n",
              "    </tr>\n",
              "    <tr>\n",
              "      <th>9</th>\n",
              "      <td>Adelie</td>\n",
              "      <td>Torgersen</td>\n",
              "      <td>42.0</td>\n",
              "      <td>20.2</td>\n",
              "      <td>190.0</td>\n",
              "      <td>4250.0</td>\n",
              "      <td>NaN</td>\n",
              "    </tr>\n",
              "    <tr>\n",
              "      <th>10</th>\n",
              "      <td>Adelie</td>\n",
              "      <td>Torgersen</td>\n",
              "      <td>37.8</td>\n",
              "      <td>17.1</td>\n",
              "      <td>186.0</td>\n",
              "      <td>3300.0</td>\n",
              "      <td>NaN</td>\n",
              "    </tr>\n",
              "    <tr>\n",
              "      <th>11</th>\n",
              "      <td>Adelie</td>\n",
              "      <td>Torgersen</td>\n",
              "      <td>37.8</td>\n",
              "      <td>17.3</td>\n",
              "      <td>180.0</td>\n",
              "      <td>3700.0</td>\n",
              "      <td>NaN</td>\n",
              "    </tr>\n",
              "    <tr>\n",
              "      <th>47</th>\n",
              "      <td>Adelie</td>\n",
              "      <td>Dream</td>\n",
              "      <td>37.5</td>\n",
              "      <td>18.9</td>\n",
              "      <td>179.0</td>\n",
              "      <td>2975.0</td>\n",
              "      <td>NaN</td>\n",
              "    </tr>\n",
              "    <tr>\n",
              "      <th>246</th>\n",
              "      <td>Gentoo</td>\n",
              "      <td>Biscoe</td>\n",
              "      <td>44.5</td>\n",
              "      <td>14.3</td>\n",
              "      <td>216.0</td>\n",
              "      <td>4100.0</td>\n",
              "      <td>NaN</td>\n",
              "    </tr>\n",
              "    <tr>\n",
              "      <th>286</th>\n",
              "      <td>Gentoo</td>\n",
              "      <td>Biscoe</td>\n",
              "      <td>46.2</td>\n",
              "      <td>14.4</td>\n",
              "      <td>214.0</td>\n",
              "      <td>4650.0</td>\n",
              "      <td>NaN</td>\n",
              "    </tr>\n",
              "    <tr>\n",
              "      <th>324</th>\n",
              "      <td>Gentoo</td>\n",
              "      <td>Biscoe</td>\n",
              "      <td>47.3</td>\n",
              "      <td>13.8</td>\n",
              "      <td>216.0</td>\n",
              "      <td>4725.0</td>\n",
              "      <td>NaN</td>\n",
              "    </tr>\n",
              "    <tr>\n",
              "      <th>336</th>\n",
              "      <td>Gentoo</td>\n",
              "      <td>Biscoe</td>\n",
              "      <td>44.5</td>\n",
              "      <td>15.7</td>\n",
              "      <td>217.0</td>\n",
              "      <td>4875.0</td>\n",
              "      <td>NaN</td>\n",
              "    </tr>\n",
              "    <tr>\n",
              "      <th>339</th>\n",
              "      <td>Gentoo</td>\n",
              "      <td>Biscoe</td>\n",
              "      <td>NaN</td>\n",
              "      <td>NaN</td>\n",
              "      <td>NaN</td>\n",
              "      <td>NaN</td>\n",
              "      <td>NaN</td>\n",
              "    </tr>\n",
              "  </tbody>\n",
              "</table>\n",
              "</div>"
            ],
            "text/plain": [
              "    species     island  bill_length_mm  ...  flipper_length_mm  body_mass_g  sex\n",
              "3    Adelie  Torgersen             NaN  ...                NaN          NaN  NaN\n",
              "8    Adelie  Torgersen            34.1  ...              193.0       3475.0  NaN\n",
              "9    Adelie  Torgersen            42.0  ...              190.0       4250.0  NaN\n",
              "10   Adelie  Torgersen            37.8  ...              186.0       3300.0  NaN\n",
              "11   Adelie  Torgersen            37.8  ...              180.0       3700.0  NaN\n",
              "47   Adelie      Dream            37.5  ...              179.0       2975.0  NaN\n",
              "246  Gentoo     Biscoe            44.5  ...              216.0       4100.0  NaN\n",
              "286  Gentoo     Biscoe            46.2  ...              214.0       4650.0  NaN\n",
              "324  Gentoo     Biscoe            47.3  ...              216.0       4725.0  NaN\n",
              "336  Gentoo     Biscoe            44.5  ...              217.0       4875.0  NaN\n",
              "339  Gentoo     Biscoe             NaN  ...                NaN          NaN  NaN\n",
              "\n",
              "[11 rows x 7 columns]"
            ]
          },
          "metadata": {
            "tags": []
          },
          "execution_count": 6
        }
      ]
    },
    {
      "cell_type": "code",
      "metadata": {
        "colab": {
          "base_uri": "https://localhost:8080/"
        },
        "id": "lGEjgc_KpdEn",
        "outputId": "5f1fdf7f-c989-4449-92c9-13a8b423d6a0"
      },
      "source": [
        "if df.isnull().sum().sum() != 0:\r\n",
        "  df.dropna(thresh = 0.5*df.shape[1], axis = 0, inplace = True)\r\n",
        "df.isnull().sum()"
      ],
      "execution_count": 7,
      "outputs": [
        {
          "output_type": "execute_result",
          "data": {
            "text/plain": [
              "species              0\n",
              "island               0\n",
              "bill_length_mm       0\n",
              "bill_depth_mm        0\n",
              "flipper_length_mm    0\n",
              "body_mass_g          0\n",
              "sex                  9\n",
              "dtype: int64"
            ]
          },
          "metadata": {
            "tags": []
          },
          "execution_count": 7
        }
      ]
    },
    {
      "cell_type": "code",
      "metadata": {
        "colab": {
          "base_uri": "https://localhost:8080/",
          "height": 204
        },
        "id": "LbLLXpUa6s15",
        "outputId": "f56befa3-1e70-48c3-a1b6-53fddf44a80a"
      },
      "source": [
        "# Create a new feature aggregated with both species and island\r\n",
        "df['species_island'] = df.agg(lambda x: f\"{x['species']}_{x['island']}\", axis = 1)\r\n",
        "df.head()"
      ],
      "execution_count": 8,
      "outputs": [
        {
          "output_type": "execute_result",
          "data": {
            "text/html": [
              "<div>\n",
              "<style scoped>\n",
              "    .dataframe tbody tr th:only-of-type {\n",
              "        vertical-align: middle;\n",
              "    }\n",
              "\n",
              "    .dataframe tbody tr th {\n",
              "        vertical-align: top;\n",
              "    }\n",
              "\n",
              "    .dataframe thead th {\n",
              "        text-align: right;\n",
              "    }\n",
              "</style>\n",
              "<table border=\"1\" class=\"dataframe\">\n",
              "  <thead>\n",
              "    <tr style=\"text-align: right;\">\n",
              "      <th></th>\n",
              "      <th>species</th>\n",
              "      <th>island</th>\n",
              "      <th>bill_length_mm</th>\n",
              "      <th>bill_depth_mm</th>\n",
              "      <th>flipper_length_mm</th>\n",
              "      <th>body_mass_g</th>\n",
              "      <th>sex</th>\n",
              "      <th>species_island</th>\n",
              "    </tr>\n",
              "  </thead>\n",
              "  <tbody>\n",
              "    <tr>\n",
              "      <th>0</th>\n",
              "      <td>Adelie</td>\n",
              "      <td>Torgersen</td>\n",
              "      <td>39.1</td>\n",
              "      <td>18.7</td>\n",
              "      <td>181.0</td>\n",
              "      <td>3750.0</td>\n",
              "      <td>MALE</td>\n",
              "      <td>Adelie_Torgersen</td>\n",
              "    </tr>\n",
              "    <tr>\n",
              "      <th>1</th>\n",
              "      <td>Adelie</td>\n",
              "      <td>Torgersen</td>\n",
              "      <td>39.5</td>\n",
              "      <td>17.4</td>\n",
              "      <td>186.0</td>\n",
              "      <td>3800.0</td>\n",
              "      <td>FEMALE</td>\n",
              "      <td>Adelie_Torgersen</td>\n",
              "    </tr>\n",
              "    <tr>\n",
              "      <th>2</th>\n",
              "      <td>Adelie</td>\n",
              "      <td>Torgersen</td>\n",
              "      <td>40.3</td>\n",
              "      <td>18.0</td>\n",
              "      <td>195.0</td>\n",
              "      <td>3250.0</td>\n",
              "      <td>FEMALE</td>\n",
              "      <td>Adelie_Torgersen</td>\n",
              "    </tr>\n",
              "    <tr>\n",
              "      <th>4</th>\n",
              "      <td>Adelie</td>\n",
              "      <td>Torgersen</td>\n",
              "      <td>36.7</td>\n",
              "      <td>19.3</td>\n",
              "      <td>193.0</td>\n",
              "      <td>3450.0</td>\n",
              "      <td>FEMALE</td>\n",
              "      <td>Adelie_Torgersen</td>\n",
              "    </tr>\n",
              "    <tr>\n",
              "      <th>5</th>\n",
              "      <td>Adelie</td>\n",
              "      <td>Torgersen</td>\n",
              "      <td>39.3</td>\n",
              "      <td>20.6</td>\n",
              "      <td>190.0</td>\n",
              "      <td>3650.0</td>\n",
              "      <td>MALE</td>\n",
              "      <td>Adelie_Torgersen</td>\n",
              "    </tr>\n",
              "  </tbody>\n",
              "</table>\n",
              "</div>"
            ],
            "text/plain": [
              "  species     island  bill_length_mm  ...  body_mass_g     sex    species_island\n",
              "0  Adelie  Torgersen            39.1  ...       3750.0    MALE  Adelie_Torgersen\n",
              "1  Adelie  Torgersen            39.5  ...       3800.0  FEMALE  Adelie_Torgersen\n",
              "2  Adelie  Torgersen            40.3  ...       3250.0  FEMALE  Adelie_Torgersen\n",
              "4  Adelie  Torgersen            36.7  ...       3450.0  FEMALE  Adelie_Torgersen\n",
              "5  Adelie  Torgersen            39.3  ...       3650.0    MALE  Adelie_Torgersen\n",
              "\n",
              "[5 rows x 8 columns]"
            ]
          },
          "metadata": {
            "tags": []
          },
          "execution_count": 8
        }
      ]
    },
    {
      "cell_type": "code",
      "metadata": {
        "colab": {
          "base_uri": "https://localhost:8080/",
          "height": 204
        },
        "id": "yfu794OA8wO2",
        "outputId": "6059b1a5-7c55-4e74-fdca-6f47a7c26fb7"
      },
      "source": [
        "df1 = df[['species_island','sex']]\r\n",
        "df1.head()"
      ],
      "execution_count": 9,
      "outputs": [
        {
          "output_type": "execute_result",
          "data": {
            "text/html": [
              "<div>\n",
              "<style scoped>\n",
              "    .dataframe tbody tr th:only-of-type {\n",
              "        vertical-align: middle;\n",
              "    }\n",
              "\n",
              "    .dataframe tbody tr th {\n",
              "        vertical-align: top;\n",
              "    }\n",
              "\n",
              "    .dataframe thead th {\n",
              "        text-align: right;\n",
              "    }\n",
              "</style>\n",
              "<table border=\"1\" class=\"dataframe\">\n",
              "  <thead>\n",
              "    <tr style=\"text-align: right;\">\n",
              "      <th></th>\n",
              "      <th>species_island</th>\n",
              "      <th>sex</th>\n",
              "    </tr>\n",
              "  </thead>\n",
              "  <tbody>\n",
              "    <tr>\n",
              "      <th>0</th>\n",
              "      <td>Adelie_Torgersen</td>\n",
              "      <td>MALE</td>\n",
              "    </tr>\n",
              "    <tr>\n",
              "      <th>1</th>\n",
              "      <td>Adelie_Torgersen</td>\n",
              "      <td>FEMALE</td>\n",
              "    </tr>\n",
              "    <tr>\n",
              "      <th>2</th>\n",
              "      <td>Adelie_Torgersen</td>\n",
              "      <td>FEMALE</td>\n",
              "    </tr>\n",
              "    <tr>\n",
              "      <th>4</th>\n",
              "      <td>Adelie_Torgersen</td>\n",
              "      <td>FEMALE</td>\n",
              "    </tr>\n",
              "    <tr>\n",
              "      <th>5</th>\n",
              "      <td>Adelie_Torgersen</td>\n",
              "      <td>MALE</td>\n",
              "    </tr>\n",
              "  </tbody>\n",
              "</table>\n",
              "</div>"
            ],
            "text/plain": [
              "     species_island     sex\n",
              "0  Adelie_Torgersen    MALE\n",
              "1  Adelie_Torgersen  FEMALE\n",
              "2  Adelie_Torgersen  FEMALE\n",
              "4  Adelie_Torgersen  FEMALE\n",
              "5  Adelie_Torgersen    MALE"
            ]
          },
          "metadata": {
            "tags": []
          },
          "execution_count": 9
        }
      ]
    },
    {
      "cell_type": "code",
      "metadata": {
        "colab": {
          "base_uri": "https://localhost:8080/"
        },
        "id": "M34Us8J184N1",
        "outputId": "d13895f9-aea6-4486-8e98-aa3a30a85444"
      },
      "source": [
        "# To see the most frequnt sex in each category\r\n",
        "counts = df1.value_counts()\r\n",
        "counts"
      ],
      "execution_count": 10,
      "outputs": [
        {
          "output_type": "execute_result",
          "data": {
            "text/plain": [
              "species_island    sex   \n",
              "Gentoo_Biscoe     MALE      61\n",
              "                  FEMALE    58\n",
              "Chinstrap_Dream   MALE      34\n",
              "                  FEMALE    34\n",
              "Adelie_Dream      MALE      28\n",
              "                  FEMALE    27\n",
              "Adelie_Torgersen  FEMALE    24\n",
              "                  MALE      23\n",
              "Adelie_Biscoe     MALE      22\n",
              "                  FEMALE    22\n",
              "dtype: int64"
            ]
          },
          "metadata": {
            "tags": []
          },
          "execution_count": 10
        }
      ]
    },
    {
      "cell_type": "code",
      "metadata": {
        "colab": {
          "base_uri": "https://localhost:8080/"
        },
        "id": "1MJDUyOJJ7lo",
        "outputId": "480fef28-fb15-4a90-bd40-ec2ff901bf98"
      },
      "source": [
        "dictionary = {\"Gentoo_Biscoe\": \"MALE\", \"Chinstrap_Dream\": \"MALE\", \"Adelie_Dream\": \"MALE\", \"Adelie_Torgersen\": \"FEMALE\",\"Adelie_Biscoe\": \"FEMALE\"}\r\n",
        "df['sex'].fillna(df['species_island'].map(dictionary), inplace = True) # fill NA with the most frequent element of each category\r\n",
        "df.drop(['species_island'], axis = 1, inplace = True) # Remove 'species_island' column \r\n",
        "df.isnull().sum()"
      ],
      "execution_count": 11,
      "outputs": [
        {
          "output_type": "execute_result",
          "data": {
            "text/plain": [
              "species              0\n",
              "island               0\n",
              "bill_length_mm       0\n",
              "bill_depth_mm        0\n",
              "flipper_length_mm    0\n",
              "body_mass_g          0\n",
              "sex                  0\n",
              "dtype: int64"
            ]
          },
          "metadata": {
            "tags": []
          },
          "execution_count": 11
        }
      ]
    },
    {
      "cell_type": "markdown",
      "metadata": {
        "id": "s5_LeAsdcscR"
      },
      "source": [
        "## A. \n",
        "\n",
        "색상을 지정할때 쓰이는 값을 `color`라는 변수에 지정하세요.\n",
        "\n",
        "<img src='https://i.imgur.com/ul32uGv.png'>"
      ]
    },
    {
      "cell_type": "code",
      "metadata": {
        "id": "7GsRia_VRZ1z",
        "colab": {
          "base_uri": "https://localhost:8080/",
          "height": 297
        },
        "outputId": "c0975558-170c-4d9a-90f4-7fe3363af45a"
      },
      "source": [
        "import seaborn as sns\r\n",
        "import matplotlib as plt\r\n",
        "color = 'sex'\r\n",
        "sns.boxplot(x = 'island', y = 'flipper_length_mm', hue = color, data = df)\r\n"
      ],
      "execution_count": 12,
      "outputs": [
        {
          "output_type": "execute_result",
          "data": {
            "text/plain": [
              "<matplotlib.axes._subplots.AxesSubplot at 0x7fbd45282b90>"
            ]
          },
          "metadata": {
            "tags": []
          },
          "execution_count": 12
        },
        {
          "output_type": "display_data",
          "data": {
            "image/png": "[encoded data removed]",
            "text/plain": [
              "<Figure size 432x288 with 1 Axes>"
            ]
          },
          "metadata": {
            "tags": [],
            "needs_background": "light"
          }
        }
      ]
    },
    {
      "cell_type": "markdown",
      "metadata": {
        "id": "UIUMCtptctS7"
      },
      "source": [
        "## B. \n",
        "\n",
        "order에 쓰이는 값을 `ord`에 저장하세요.\n",
        "\n",
        "<img src='https://i.imgur.com/NNeUsoX.png'>"
      ]
    },
    {
      "cell_type": "code",
      "metadata": {
        "id": "wxPT-v4sRlaz",
        "colab": {
          "base_uri": "https://localhost:8080/",
          "height": 401
        },
        "outputId": "778b992b-ac15-4dd1-c93b-3f7f5096f2c6"
      },
      "source": [
        "ord = ['Dream', 'Biscoe', 'Torgersen']\r\n",
        "sns.catplot(x = 'island', y = 'bill_depth_mm', data = df, order = ord)"
      ],
      "execution_count": 13,
      "outputs": [
        {
          "output_type": "execute_result",
          "data": {
            "text/plain": [
              "<seaborn.axisgrid.FacetGrid at 0x7fbd44a138d0>"
            ]
          },
          "metadata": {
            "tags": []
          },
          "execution_count": 13
        },
        {
          "output_type": "display_data",
          "data": {
            "image/png": "[encoded data removed]",
            "text/plain": [
              "<Figure size 360x360 with 1 Axes>"
            ]
          },
          "metadata": {
            "tags": [],
            "needs_background": "light"
          }
        }
      ]
    },
    {
      "cell_type": "markdown",
      "metadata": {
        "id": "2v5Ov0j7cvu1"
      },
      "source": [
        "## C. \n",
        "\n",
        "- 다음 그래프를 그리기 위한 함수를 `plot`에 저장하세요. \n",
        "\n",
        "> sns.scatterplot()\n",
        "> \n",
        "> sns.`~~~~`()\n",
        "\n",
        "<img src='https://i.imgur.com/K5cNBfJ.png'>"
      ]
    },
    {
      "cell_type": "code",
      "metadata": {
        "id": "cqMs0jz_WvJt",
        "colab": {
          "base_uri": "https://localhost:8080/",
          "height": 280
        },
        "outputId": "4e553937-e88c-404a-8e6b-990cafa3d8af"
      },
      "source": [
        "sns.scatterplot(x='bill_length_mm', y = 'bill_depth_mm', data=df, hue = \"species\")\r\n",
        "sns.rugplot(x = \"bill_length_mm\", y = 'bill_depth_mm', data=df)\r\n",
        "\r\n",
        "plot = 'rugplot'"
      ],
      "execution_count": 14,
      "outputs": [
        {
          "output_type": "display_data",
          "data": {
            "image/png": "[encoded data removed]",
            "text/plain": [
              "<Figure size 432x288 with 1 Axes>"
            ]
          },
          "metadata": {
            "tags": [],
            "needs_background": "light"
          }
        }
      ]
    },
    {
      "cell_type": "markdown",
      "metadata": {
        "id": "4nltEEryc2sF"
      },
      "source": [
        "## D.\n",
        "\n",
        "<img src='https://i.imgur.com/i0izXcC.png'>\n",
        "\n",
        "- 색상은 `#ff9ff3`, `#4000c7`, `#1dd1a1` 입니다.\n",
        "- 코드에서 사용하는 `palette`의 값을 `pal`이라는 변수에 저장하세요."
      ]
    },
    {
      "cell_type": "code",
      "metadata": {
        "colab": {
          "base_uri": "https://localhost:8080/",
          "height": 225
        },
        "id": "NpnymzpxoYak",
        "outputId": "7f85c1c3-596b-4f32-bab2-740450ceba01"
      },
      "source": [
        "g = sns.FacetGrid(data = df, col = 'island')\r\n",
        "pal = {\"Adelie\":'#ff9ff3', \"Gentoo\":\"#4000c7\", \"Chinstrap\":'#1dd1a1'}\r\n",
        "g.map_dataframe(\r\n",
        "    sns.scatterplot,\r\n",
        "    x = 'bill_length_mm',\r\n",
        "    y = 'body_mass_g',\r\n",
        "    hue = 'species',\r\n",
        "    data = df, \r\n",
        "    palette = pal\r\n",
        ")\r\n",
        "g.add_legend();"
      ],
      "execution_count": 19,
      "outputs": [
        {
          "output_type": "display_data",
          "data": {
            "image/png": "[encoded data removed]",
            "text/plain": [
              "<Figure size 732.125x216 with 3 Axes>"
            ]
          },
          "metadata": {
            "tags": [],
            "needs_background": "light"
          }
        }
      ]
    },
    {
      "cell_type": "markdown",
      "metadata": {
        "id": "en0Q_b5L4fxA"
      },
      "source": [
        "## Grading\n",
        "\n",
        "이전 과제를 완료했다면, 아래의 코드를 실행하세요. "
      ]
    },
    {
      "cell_type": "code",
      "metadata": {
        "id": "nj_RslFn4lCM"
      },
      "source": [
        "import numpy as np\n",
        "\n",
        "def grade():\n",
        "  score = 0\n",
        "  score += (color == 'sex') # A\n",
        "  score += (ord == ['Dream', 'Biscoe', 'Torgersen']) # B\n",
        "  score += (plot == 'rugplot') # C\n",
        "  score += (pal == {\"Adelie\":'#ff9ff3', \"Gentoo\":\"#4000c7\", \"Chinstrap\":'#1dd1a1'}) # D \n",
        "  return(score)"
      ],
      "execution_count": 20,
      "outputs": []
    },
    {
      "cell_type": "code",
      "metadata": {
        "id": "5Wph6vyM2RwY",
        "colab": {
          "base_uri": "https://localhost:8080/"
        },
        "outputId": "3e793033-11ef-4239-c840-0b758111a871"
      },
      "source": [
        "grade()"
      ],
      "execution_count": 21,
      "outputs": [
        {
          "output_type": "execute_result",
          "data": {
            "text/plain": [
              "4"
            ]
          },
          "metadata": {
            "tags": []
          },
          "execution_count": 21
        }
      ]
    },
    {
      "cell_type": "markdown",
      "metadata": {
        "id": "D2LozcQ776I7"
      },
      "source": [
        "## 🔥 도전과제\n",
        "\n"
      ]
    },
    {
      "cell_type": "markdown",
      "metadata": {
        "id": "7tdF5S5k9Jfv"
      },
      "source": [
        "## 여러분은 핏빗 밴드를 설계하는 팀원입니다. 다음 차트를 기반으로, 앞으로 취해야할 전략을 간단하게 설명해보세요.\n",
        "<https://public.tableau.com/ko-kr/gallery/year-watch-bands?tab=viz-of-the-day&type=viz-of-the-day>\n",
        "\n",
        "<img src='https://i.imgur.com/bFWFNJF.png'>"
      ]
    },
    {
      "cell_type": "markdown",
      "metadata": {
        "id": "9H3JhEK2bsGi"
      },
      "source": [
        "* **색상 선호도**\r\n",
        "1. Gray와 black을 굉장히 선호하는데 최근들어 튀는 색상을 찾기 시작함.\r\n",
        "2. 앞으로 Neutral한 색상보다 **밝은 계열**을 더 찾음.\r\n",
        "3. Neon Yellow나 비슷한 밝은 색상을 집중공략 - Pink(Red/Orange/Yellow)와 Aqua(Blue/Green)를 특히 집중\r\n",
        "\r\n",
        "* **날씨 선호도**\r\n",
        "1. 추위보단 더위를 많이 타는 사람인 듯 - 밴드를 차는 횟수가 더위와 반비례하는 경향이 있음\r\n",
        "2. 10월부터 다시 밴드를 차려는 경향이 강해지는 중\r\n",
        "3. 이 추세라면 앞으로 최소 4월달까지 이전보다 더 많은 횟수로 갈아낄 듯 - 최소4회이상.\r\n",
        "\r\n",
        "\r\n",
        "\r\n",
        "\r\n"
      ]
    }
  ]
}